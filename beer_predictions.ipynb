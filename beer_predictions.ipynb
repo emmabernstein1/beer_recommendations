{
 "cells": [
  {
   "cell_type": "code",
   "execution_count": 2,
   "metadata": {},
   "outputs": [],
   "source": [
    "import pandas as pd\n",
    "import numpy as np"
   ]
  },
  {
   "cell_type": "code",
   "execution_count": 3,
   "metadata": {},
   "outputs": [
    {
     "data": {
      "text/html": [
       "<div>\n",
       "<style scoped>\n",
       "    .dataframe tbody tr th:only-of-type {\n",
       "        vertical-align: middle;\n",
       "    }\n",
       "\n",
       "    .dataframe tbody tr th {\n",
       "        vertical-align: top;\n",
       "    }\n",
       "\n",
       "    .dataframe thead th {\n",
       "        text-align: right;\n",
       "    }\n",
       "</style>\n",
       "<table border=\"1\" class=\"dataframe\">\n",
       "  <thead>\n",
       "    <tr style=\"text-align: right;\">\n",
       "      <th></th>\n",
       "      <th>Unnamed: 0</th>\n",
       "      <th>beer_name</th>\n",
       "      <th>abv</th>\n",
       "      <th>brewery</th>\n",
       "      <th>type</th>\n",
       "    </tr>\n",
       "  </thead>\n",
       "  <tbody>\n",
       "    <tr>\n",
       "      <th>0</th>\n",
       "      <td>0</td>\n",
       "      <td>Darkness - High West Rye Whiskey Barrel Aged (...</td>\n",
       "      <td>12.00</td>\n",
       "      <td>Surly Brewing Company</td>\n",
       "      <td>Russian Imperial Stout</td>\n",
       "    </tr>\n",
       "    <tr>\n",
       "      <th>1</th>\n",
       "      <td>1</td>\n",
       "      <td>Carnegie Porter 5,5%</td>\n",
       "      <td>5.50</td>\n",
       "      <td>Carlsberg Sverige AB</td>\n",
       "      <td>Baltic Porter</td>\n",
       "    </tr>\n",
       "    <tr>\n",
       "      <th>2</th>\n",
       "      <td>2</td>\n",
       "      <td>London Porter</td>\n",
       "      <td>6.50</td>\n",
       "      <td>Meantime Brewing Company Limited</td>\n",
       "      <td>English Porter</td>\n",
       "    </tr>\n",
       "    <tr>\n",
       "      <th>3</th>\n",
       "      <td>3</td>\n",
       "      <td>Port Barrel Aged Abduction</td>\n",
       "      <td>13.00</td>\n",
       "      <td>Pipeworks Brewing Company</td>\n",
       "      <td>American Imperial Stout</td>\n",
       "    </tr>\n",
       "    <tr>\n",
       "      <th>4</th>\n",
       "      <td>4</td>\n",
       "      <td>Echoes From The Well</td>\n",
       "      <td>8.50</td>\n",
       "      <td>LIC Beer Project</td>\n",
       "      <td>American Imperial IPA</td>\n",
       "    </tr>\n",
       "  </tbody>\n",
       "</table>\n",
       "</div>"
      ],
      "text/plain": [
       "   Unnamed: 0                                          beer_name    abv  \\\n",
       "0           0  Darkness - High West Rye Whiskey Barrel Aged (...  12.00   \n",
       "1           1                               Carnegie Porter 5,5%   5.50   \n",
       "2           2                                      London Porter   6.50   \n",
       "3           3                         Port Barrel Aged Abduction  13.00   \n",
       "4           4                               Echoes From The Well   8.50   \n",
       "\n",
       "                            brewery                     type  \n",
       "0             Surly Brewing Company   Russian Imperial Stout  \n",
       "1              Carlsberg Sverige AB            Baltic Porter  \n",
       "2  Meantime Brewing Company Limited           English Porter  \n",
       "3         Pipeworks Brewing Company  American Imperial Stout  \n",
       "4                  LIC Beer Project    American Imperial IPA  "
      ]
     },
     "execution_count": 3,
     "metadata": {},
     "output_type": "execute_result"
    }
   ],
   "source": [
    "#read text file with beer data\n",
    "beer_m = utility = pd.read_csv('beer_matrix.txt', sep='\\t')\n",
    "beer_m.head()"
   ]
  },
  {
   "cell_type": "code",
   "execution_count": 4,
   "metadata": {},
   "outputs": [],
   "source": [
    "#find the duplicate beers\n",
    "beer_counts = {}\n",
    "for beer in list(beer_m['beer_name']):\n",
    "    if not beer in beer_counts:\n",
    "        beer_counts[beer] = 1\n",
    "    else:\n",
    "        beer_counts[beer] += 1\n",
    "\n",
    "duplicated = []\n",
    "for name, count in beer_counts.items():    # for name, age in dictionary.iteritems():  (for Python 2.x)\n",
    "    if count > 1 or count <1:\n",
    "        duplicated.append(name)"
   ]
  },
  {
   "cell_type": "code",
   "execution_count": 5,
   "metadata": {},
   "outputs": [],
   "source": [
    "#drop rows with duplicated beers from the beer matrix and reset the index\n",
    "beer_m = beer_m[~beer_m['beer_name'].isin(duplicated)]\n",
    "beer_m = beer_m.reset_index()"
   ]
  },
  {
   "cell_type": "code",
   "execution_count": 6,
   "metadata": {},
   "outputs": [],
   "source": [
    "#get rid of ambiguous column\n",
    "beer_m = beer_m.iloc[:, 1:]"
   ]
  },
  {
   "cell_type": "code",
   "execution_count": 7,
   "metadata": {},
   "outputs": [],
   "source": [
    "#read text file with rating data\n",
    "utility = pd.read_csv('um.txt', sep='\\t')\n",
    "#drop columns with duplicated beer names\n",
    "utility = utility.drop(columns= duplicated).iloc[:,1:]"
   ]
  },
  {
   "cell_type": "code",
   "execution_count": 8,
   "metadata": {},
   "outputs": [],
   "source": [
    "#make a copy of the utility dataframe\n",
    "\n",
    "utility_copy = utility.copy()\n",
    "utility_copy = utility_copy.iloc[:, 1:]\n",
    "utility_copy['UID'] = list(range(1, len(utility)+1))\n",
    "# utility_copy = utility_copy.drop(['user_name'], axis=1)\n",
    "\n",
    "utility_copy_features = utility_copy.drop(columns=['UID', 'user_name'], axis=1)\n",
    "utility_copy_features.index.name = 'BID'"
   ]
  },
  {
   "cell_type": "code",
   "execution_count": 9,
   "metadata": {},
   "outputs": [
    {
     "data": {
      "text/plain": [
       "array([[ 4.17406583,  4.07406583,  4.07406583, ..., -0.00593417,\n",
       "        -0.00593417, -0.00593417],\n",
       "       [-0.00644   , -0.00644   , -0.00644   , ..., -0.00644   ,\n",
       "        -0.00644   , -0.00644   ],\n",
       "       [-0.00557215, -0.00557215, -0.00557215, ..., -0.00557215,\n",
       "        -0.00557215, -0.00557215],\n",
       "       ...,\n",
       "       [ 0.        ,  0.        ,  0.        , ...,  0.        ,\n",
       "         0.        ,  0.        ],\n",
       "       [-0.00542276, -0.00542276, -0.00542276, ..., -0.00542276,\n",
       "        -0.00542276, -0.00542276],\n",
       "       [-0.00566948, -0.00566948, -0.00566948, ...,  4.28433052,\n",
       "         3.65433052,  4.15433052]])"
      ]
     },
     "execution_count": 9,
     "metadata": {},
     "output_type": "execute_result"
    }
   ],
   "source": [
    "#fill null values with zero to prepare for normalization\n",
    "utility_copy_features = utility_copy_features.fillna(0)\n",
    "#normalize all values\n",
    "#convert to float64 datatypes\n",
    "utility_copy_features = utility_copy_features.astype('float64')\n",
    "um_vals1 = utility_copy_features.values\n",
    "#get mean ratings for each row\n",
    "ratings_mean1 = np.mean(um_vals1, axis=1)\n",
    "#normalize by subtracting mean from each rating\n",
    "um_norm1 = um_vals1 - ratings_mean1.reshape(-1, 1)\n",
    "um_norm1"
   ]
  },
  {
   "cell_type": "code",
   "execution_count": 10,
   "metadata": {},
   "outputs": [],
   "source": [
    "#make new dataframe with normalized ratings corresponding to user ID\n",
    "df = pd.DataFrame(um_norm1, columns=list(utility_copy_features.columns))\n",
    "df['UID'] = list(range(1, len(df)+1))"
   ]
  },
  {
   "cell_type": "code",
   "execution_count": 11,
   "metadata": {},
   "outputs": [
    {
     "data": {
      "text/html": [
       "<div>\n",
       "<style scoped>\n",
       "    .dataframe tbody tr th:only-of-type {\n",
       "        vertical-align: middle;\n",
       "    }\n",
       "\n",
       "    .dataframe tbody tr th {\n",
       "        vertical-align: top;\n",
       "    }\n",
       "\n",
       "    .dataframe thead th {\n",
       "        text-align: right;\n",
       "    }\n",
       "</style>\n",
       "<table border=\"1\" class=\"dataframe\">\n",
       "  <thead>\n",
       "    <tr style=\"text-align: right;\">\n",
       "      <th></th>\n",
       "      <th>UID</th>\n",
       "      <th>beer_name</th>\n",
       "      <th>rating</th>\n",
       "    </tr>\n",
       "  </thead>\n",
       "  <tbody>\n",
       "    <tr>\n",
       "      <th>0</th>\n",
       "      <td>1</td>\n",
       "      <td>97 Feet</td>\n",
       "      <td>4.174066</td>\n",
       "    </tr>\n",
       "    <tr>\n",
       "      <th>1</th>\n",
       "      <td>2</td>\n",
       "      <td>97 Feet</td>\n",
       "      <td>-0.006440</td>\n",
       "    </tr>\n",
       "    <tr>\n",
       "      <th>2</th>\n",
       "      <td>3</td>\n",
       "      <td>97 Feet</td>\n",
       "      <td>-0.005572</td>\n",
       "    </tr>\n",
       "    <tr>\n",
       "      <th>3</th>\n",
       "      <td>4</td>\n",
       "      <td>97 Feet</td>\n",
       "      <td>-0.004263</td>\n",
       "    </tr>\n",
       "    <tr>\n",
       "      <th>4</th>\n",
       "      <td>5</td>\n",
       "      <td>97 Feet</td>\n",
       "      <td>-0.006790</td>\n",
       "    </tr>\n",
       "  </tbody>\n",
       "</table>\n",
       "</div>"
      ],
      "text/plain": [
       "   UID beer_name    rating\n",
       "0    1   97 Feet  4.174066\n",
       "1    2   97 Feet -0.006440\n",
       "2    3   97 Feet -0.005572\n",
       "3    4   97 Feet -0.004263\n",
       "4    5   97 Feet -0.006790"
      ]
     },
     "execution_count": 11,
     "metadata": {},
     "output_type": "execute_result"
    }
   ],
   "source": [
    "#rotate dataframe so that every individual rating is its own row\n",
    "long_matrix1 = pd.melt(df, \n",
    "        id_vars='UID', \n",
    "        value_vars=utility_copy_features,\n",
    "        var_name='beer_name',\n",
    "        value_name='rating')\n",
    "\n",
    "long_matrix1 = long_matrix1.dropna()\n",
    "long_matrix1.head()"
   ]
  },
  {
   "cell_type": "code",
   "execution_count": 12,
   "metadata": {},
   "outputs": [],
   "source": [
    "from surprise import Dataset, Reader\n",
    "reader = Reader(rating_scale=(0, 5))\n",
    "\n",
    "# The columns must correspond to user id, item id and ratings (in that order).\n",
    "data = Dataset.load_from_df(long_matrix1[['UID', 'beer_name', 'rating']], reader)"
   ]
  },
  {
   "cell_type": "code",
   "execution_count": null,
   "metadata": {},
   "outputs": [],
   "source": [
    "from surprise.model_selection import train_test_split\n",
    "\n",
    "trainset, testset = train_test_split(data, test_size=.25)"
   ]
  },
  {
   "cell_type": "code",
   "execution_count": null,
   "metadata": {},
   "outputs": [],
   "source": [
    "from surprise import SVD\n",
    "\n",
    "algo = SVD()\n",
    "algo.train(trainset)\n",
    "\n",
    "uid = \"user0\"\n",
    "\n",
    "pred = algo.predict(uid=uid, iid=\"\", verbose=True)\n",
    "print(pred)"
   ]
  },
  {
   "cell_type": "code",
   "execution_count": null,
   "metadata": {},
   "outputs": [],
   "source": [
    "from collections import defaultdict\n",
    "\n",
    "from surprise import SVD\n",
    "from surprise import Dataset\n",
    "\n",
    "\n",
    "def get_top_n(predictions, n=10):\n",
    "    '''Return the top-N recommendation for each user from a set of predictions.\n",
    "\n",
    "    Args:\n",
    "        predictions(list of Prediction objects): The list of predictions, as\n",
    "            returned by the test method of an algorithm.\n",
    "        n(int): The number of recommendation to output for each user. Default\n",
    "            is 10.\n",
    "\n",
    "    Returns:\n",
    "    A dict where keys are user (raw) ids and values are lists of tuples:\n",
    "        [(raw item id, rating estimation), ...] of size n.\n",
    "    '''\n",
    "\n",
    "    # First map the predictions to each user.\n",
    "    top_n = defaultdict(list)\n",
    "    for uid, iid, true_r, est, _ in predictions:\n",
    "        top_n[uid].append((iid, est))\n",
    "\n",
    "    # Then sort the predictions for each user and retrieve the k highest ones.\n",
    "    for uid, user_ratings in top_n.items():\n",
    "        user_ratings.sort(key=lambda x: x[1], reverse=True)\n",
    "        top_n[uid] = user_ratings[:n]\n",
    "\n",
    "    return top_n\n",
    "\n",
    "\n",
    "# First train an SVD algorithm on the movielens dataset.\n",
    "trainset = data.build_full_trainset()\n",
    "algo = SVD()\n",
    "algo.fit(trainset)\n",
    "\n",
    "# Than predict ratings for all pairs (u, i) that are NOT in the training set.\n",
    "testset = trainset.build_anti_testset()\n",
    "predictions = algo.test(testset)\n",
    "\n",
    "top_n = get_top_n(predictions, n=10)\n",
    "\n",
    "# Print the recommended items for each user\n",
    "for uid, user_ratings in top_n.items():\n",
    "    print(uid, [iid for (iid, _) in user_ratings])"
   ]
  },
  {
   "cell_type": "code",
   "execution_count": null,
   "metadata": {},
   "outputs": [],
   "source": [
    "from surprise import SVD, KNNBaseline, KNNBasic, KNNWithMeans, KNNWithMeans, KNNWithZScore, BaselineOnly, CoClustering\n",
    "from surprise.model_selection import cross_validate\n",
    "from tqdm import tqdm\n",
    "\n",
    "benchmark = []\n",
    "# Iterate over all algorithms\n",
    "for algorithm in tqdm([SVD(), KNNBaseline(), KNNBasic(), KNNWithMeans(), KNNWithZScore(), BaselineOnly(), CoClustering()]):\n",
    "    # Perform cross validation\n",
    "    results = cross_validate(algorithm, data, measures=['RMSE', 'MAE'], cv=4, verbose=False)\n",
    "    \n",
    "    # Get results & append algorithm name\n",
    "    tmp = pd.DataFrame.from_dict(results).mean(axis=0)\n",
    "    tmp = tmp.append(pd.Series([str(algorithm).split(' ')[0].split('.')[-1]], index=['Algorithm']))\n",
    "    benchmark.append(tmp)\n",
    "    \n",
    "pd.DataFrame(benchmark).set_index('Algorithm').sort_values('test_rmse')  "
   ]
  },
  {
   "cell_type": "code",
   "execution_count": null,
   "metadata": {},
   "outputs": [],
   "source": [
    "def get_Iu(uid):\n",
    "    \"\"\" return the number of items rated by given user\n",
    "    args: \n",
    "      uid: the id of the user\n",
    "    returns: \n",
    "      the number of items rated by the user\n",
    "    \"\"\"\n",
    "    try:\n",
    "        return len(trainset.ur[trainset.to_inner_uid(uid)])\n",
    "    except ValueError: # user was not part of the trainset\n",
    "        return 0\n",
    "    \n",
    "def get_Ui(iid):\n",
    "    \"\"\" return number of users that have rated given item\n",
    "    args:\n",
    "      iid: the raw id of the item\n",
    "    returns:\n",
    "      the number of users that have rated the item.\n",
    "    \"\"\"\n",
    "    try: \n",
    "        return len(trainset.ir[trainset.to_inner_iid(iid)])\n",
    "    except ValueError:\n",
    "        return 0\n",
    "    \n",
    "df2 = pd.DataFrame(predictions, columns=['uid', 'iid', 'rui', 'est', 'details'])\n",
    "df2['Iu'] = df2.uid.apply(get_Iu)\n",
    "df2['Ui'] = df2.iid.apply(get_Ui)\n",
    "df2['err'] = abs(df2.est - df2.rui)\n",
    "best_predictions = df2.sort_values(by='err')[:10]\n",
    "worst_predictions = df2.sort_values(by='err')[-10:]"
   ]
  },
  {
   "cell_type": "code",
   "execution_count": null,
   "metadata": {},
   "outputs": [],
   "source": [
    "df2.head()"
   ]
  },
  {
   "cell_type": "code",
   "execution_count": null,
   "metadata": {},
   "outputs": [],
   "source": [
    "def beer_recs(beer, num_recs=5):\n",
    "    id = df[beer].idxmax()\n",
    "    user_row = int(df.iloc[id][beer])\n",
    "    rated, recommended = recommender(predictions_df, user_row, beer_matrix, long_matrix1, num_recs)\n",
    "    return recommended"
   ]
  },
  {
   "cell_type": "code",
   "execution_count": null,
   "metadata": {},
   "outputs": [],
   "source": [
    "beer_recs('90 Minute IPA')"
   ]
  },
  {
   "cell_type": "code",
   "execution_count": null,
   "metadata": {},
   "outputs": [],
   "source": [
    "# Recommending top movies not yet rated by user\n",
    "def recommender(predictions_df, UID, unique_list, original_ratings_df, num_recommendations=5):\n",
    "    \n",
    "    # Get and sort the user's predictions\n",
    "    user_row = UID - 1 # UID starts at 1, not 0\n",
    "    sorted_predictions = predictions_df.iloc[user_row].sort_values(ascending=False) \n",
    "    \n",
    "    # Get the original user data and merge in the movie information \n",
    "    user_data = original_ratings_df[original_ratings_df.UID == (UID)]\n",
    "    user_full = user_data.merge(unique_list, how = 'left', left_on = 'beer_name', right_on = 'beer_name').sort_values(['rating'], ascending=False)\n",
    "\n",
    "#     print(sorted_predictions)\n",
    "    \n",
    "    # Recommend the highest predicted rating movies that the user hasn't seen yet.\n",
    "    recommendations = unique_list[~unique_list['beer_name'].isin(user_full['beer_name'])] \\\n",
    "                      .merge(pd.DataFrame(sorted_predictions).reset_index(), \n",
    "                             how = 'left', left_on = 'beer_name', right_on = 'BID') \\\n",
    "                      .rename(columns = {user_row: 'Predictions'}) \\\n",
    "                      .sort_values('Predictions', ascending = False) \\\n",
    "                      .iloc[:num_recommendations, :-1]\n",
    "                    \n",
    "#     print(recommendations)\n",
    "    print ('User {0} has already rated {1} beers.'.format(UID, user_full.shape[0]))\n",
    "    print ('Recommending highest {0} predicted ratings beers not already rated.'.format(num_recommendations))\n",
    "    return user_full, recommendations"
   ]
  },
  {
   "cell_type": "code",
   "execution_count": null,
   "metadata": {},
   "outputs": [],
   "source": [
    "rated, recommended = recommender(predictions_df, 1, beer_matrix, long_matrix, 5)"
   ]
  },
  {
   "cell_type": "code",
   "execution_count": null,
   "metadata": {},
   "outputs": [],
   "source": []
  }
 ],
 "metadata": {
  "kernelspec": {
   "display_name": "Python 3",
   "language": "python",
   "name": "python3"
  },
  "language_info": {
   "codemirror_mode": {
    "name": "ipython",
    "version": 3
   },
   "file_extension": ".py",
   "mimetype": "text/x-python",
   "name": "python",
   "nbconvert_exporter": "python",
   "pygments_lexer": "ipython3",
   "version": "3.6.7"
  }
 },
 "nbformat": 4,
 "nbformat_minor": 2
}
